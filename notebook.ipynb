{
 "cells": [
  {
   "cell_type": "markdown",
   "id": "a5693425-9491-4a0c-98e0-664cf6df248b",
   "metadata": {},
   "source": [
    "<center><img src=\"image.png\" width=500></center>\n",
    "<p>\n",
    "\n",
    "You've recently started a new position as a Data Engineer at an energy company. Previously, analysts on other teams had to manually retrieve and clean data every quarter to understand changes in the sales and capability of different energy types. This process normally took days and was something that most analytsts dreaded. Your job is to automate this process by building a data pipeline. You'll write this data pipeline to pull data each month, helping to provide more rapid insights and free up time for your data consumers.\n",
    "\n",
    "You will achieve this using the `pandas` library and its powerful parsing features. You'll be working with two raw files; `electricity_sales.csv` and `electricity_capability_nested.json`. \n",
    "    \n",
    "Below, you'll find a data dictionary for the `electricity_sales.csv` dataset, which you'll be transforming in just a bit. Good luck!\n",
    "\n",
    "| Field | Data Type |\n",
    "| :---- | :-------: |\n",
    "| period  | `str`        |\n",
    "| stateid | `str` |\n",
    "| stateDescription | `str` |\n",
    "| sectorid | `str` |\n",
    "| sectorName | `str` |\n",
    "| price | `float` |\n",
    "| price-units | `str` |"
   ]
  },
  {
   "cell_type": "code",
   "execution_count": 2,
   "id": "408b0fb1-926b-4c41-98e8-15803a1999cb",
   "metadata": {
    "executionCancelledAt": null,
    "executionTime": 10,
    "lastExecutedAt": 1737715360051,
    "lastExecutedByKernel": "50e49d5e-e3f0-4a88-9dc2-1e3514c56d12",
    "lastScheduledRunId": null,
    "lastSuccessfullyExecutedCode": "import pandas as pd\nimport json"
   },
   "outputs": [],
   "source": [
    "# importing libraries\n",
    "import pandas as pd\n",
    "import json"
   ]
  },
  {
   "cell_type": "code",
   "execution_count": null,
   "id": "e79342a8-2eeb-4bcc-92f0-70c5ebec76e5",
   "metadata": {
    "executionCancelledAt": null,
    "executionTime": 50,
    "lastExecutedAt": 1732713536451,
    "lastExecutedByKernel": "38d619e4-aaba-4b5c-8ea1-6285fbce1f2c",
    "lastScheduledRunId": null,
    "lastSuccessfullyExecutedCode": "import pandas as pd\n\ndef extract_tabular_data(file_path: str):\n    \"\"\"Extract data from a tabular file_format, with pandas.\"\"\"\n    if file_path.endswith(\".csv\"):\n        return pd.read_csv(file_path)\n    \n    elif file_path.endswith(\".parquet\"):\n        return pd.read_parquet(file_path)\n    \n    else:\n        raise Exception(\"Warning: Invalid file extension. Please try with .csv or .parquet!\")\n"
   },
   "outputs": [],
   "source": [
    "# extracting data\n",
    "def extract_tabular_data(file_path: str):\n",
    "    \"\"\"Extract data from a tabular file_format, with pandas.\"\"\"\n",
    "    return pd.read_csv(file_path)\n"
   ]
  },
  {
   "cell_type": "code",
   "execution_count": null,
   "id": "ecbc91c2-e0cc-4ae7-a7e8-ab2a56f1a1a9",
   "metadata": {
    "executionCancelledAt": null,
    "executionTime": 47,
    "lastExecutedAt": 1732713536499,
    "lastExecutedByKernel": "38d619e4-aaba-4b5c-8ea1-6285fbce1f2c",
    "lastScheduledRunId": null,
    "lastSuccessfullyExecutedCode": "import json\n\n# Make sure that extract_json_data() takes a single parameter, file_path\ndef extract_json_data(file_path):\n    \"\"\"Extract and flatten data from a JSON file.\"\"\"\n    # First, read in the JSON file into memory using the json library\n    with open(file_path, \"r\") as json_file:\n        raw_data = json.load(json_file)\n    \n    \n    return pd.json_normalize(raw_data)\n"
   },
   "outputs": [],
   "source": [
    "# extracting json data\n",
    "def extract_json_data(file_path):\n",
    "    \"\"\"Extract and flatten data from a JSON file.\"\"\"\n",
    "    with open(file_path) as f:\n",
    "        data = json.load(f)\n",
    "    return pd.json_normalize(data)"
   ]
  },
  {
   "cell_type": "code",
   "execution_count": null,
   "id": "3cc22273-22b8-4f30-8c11-a746f884509f",
   "metadata": {
    "executionCancelledAt": null,
    "executionTime": 51,
    "lastExecutedAt": 1737714942978,
    "lastExecutedByKernel": "50e49d5e-e3f0-4a88-9dc2-1e3514c56d12",
    "lastScheduledRunId": null,
    "lastSuccessfullyExecutedCode": "def transform_electricity_sales_data(raw_data: pd.DataFrame):\n    \"\"\"\n    Transform electricity sales to find the total amount of electricity sold\n    in the residential and transportation sectors.\n    \n    To transform the electricity sales data, you'll need to do the following:\n    - Drop any records with NA values in the `price` column. Do this inplace.\n    - Only keep records with a `sectorName` of \"residential\" or \"transportation\".\n    - Create a `month` column using the first 4 characters of the values in `period`.\n    - Create a `year` column using the last 2 characters of the values in `period`.\n    - Return the transformed `DataFrame`, keeping only the columns `year`, `month`, `stateid`, `price` and `price-units`.\n    \"\"\""
   },
   "outputs": [],
   "source": [
    "def transform_electricity_sales_data(raw_data: pd.DataFrame):\n",
    "    \"\"\"\n",
    "    Transform electricity sales to find the total amount of electricity sold\n",
    "    in the residential and transportation sectors.\n",
    "    \n",
    "    To transform the electricity sales data, you'll need to do the following:\n",
    "    - Drop any records with NA values in the `price` column. Do this inplace.\n",
    "    - Only keep records with a `sectorName` of \"residential\" or \"transportation\".\n",
    "    - Create a `month` column using the first 4 characters of the values in `period`.\n",
    "    - Create a `year` column using the last 2 characters of the values in `period`.\n",
    "    - Return the transformed `DataFrame`, keeping only the columns `year`, `month`, `stateid`, `price` and `price-units`.\n",
    "    \"\"\"\n",
    "\n",
    "\n",
    "    # It's better to work on a copy to avoid modifying the original DataFrame unexpectedly.\n",
    "    transformed_df = raw_data.copy()\n",
    "\n",
    "    # The 'price' column is of object type due to empty strings. Convert to numeric.\n",
    "    # `errors='coerce'` will turn non-numeric values (like empty strings) into NaN.\n",
    "    transformed_df['price'] = pd.to_numeric(transformed_df['price'], errors='coerce')\n",
    "\n",
    "    # Drop records with NA in 'price'\n",
    "    transformed_df.dropna(subset=['price'], inplace=True)\n",
    "\n",
    "    # Filter for 'residential' or 'transportation' sectors\n",
    "    transformed_df = transformed_df[transformed_df['sectorName'].isin(['residential', 'transportation'])]\n",
    "\n",
    "    # Create 'year' and 'month' columns from the 'period'\n",
    "    transformed_df['year'] = pd.to_datetime(transformed_df['period']).dt.year\n",
    "    transformed_df['month'] = pd.to_datetime(transformed_df['period']).dt.month\n",
    "\n",
    "    # Select and return the required columns\n",
    "    return transformed_df[['year', 'month', 'stateid', 'price', 'price-units']]\n",
    "\n"
   ]
  },
  {
   "cell_type": "code",
   "execution_count": null,
   "id": "66e6db3c-ebfa-4f7b-9668-eac8a01f4263",
   "metadata": {
    "executionCancelledAt": null,
    "executionTime": 53,
    "lastExecutedAt": 1732713536600,
    "lastExecutedByKernel": "38d619e4-aaba-4b5c-8ea1-6285fbce1f2c",
    "lastScheduledRunId": null,
    "lastSuccessfullyExecutedCode": "def load(dataframe: pd.DataFrame, file_path: str):\n    # Check to see if the file path ends with .csv or .parquet\n    if file_path.endswith(\".csv\"):\n        dataframe.to_csv(file_path)\n        \n    elif file_path.endswith(\".parquet\"):\n        dataframe.to_parquet(file_path)\n    \n    # Otherwise, throw an exception\n    else: raise Exception(f\"Warning: {file_path} is not a valid file type. Please try again!\")\n"
   },
   "outputs": [],
   "source": [
    "def load(dataframe: pd.DataFrame, file_path: str):\n",
    "    \"\"\"Load a DataFrame to a file in either CSV or Parquet format.\"\"\"\n",
    "    if file_path.endswith('.csv'):\n",
    "        dataframe.to_csv(file_path, index=False)\n",
    "    elif file_path.endswith('.parquet'):\n",
    "        dataframe.to_parquet(file_path, index=False)\n",
    "    else:\n",
    "        raise ValueError(\"Unsupported file format. Please use CSV or Parquet.\")"
   ]
  },
  {
   "cell_type": "code",
   "execution_count": null,
   "id": "befd9c30-8fa0-465f-bfc4-675d25d51e62",
   "metadata": {
    "executionCancelledAt": null,
    "executionTime": 113,
    "lastExecutedAt": 1732714584263,
    "lastExecutedByKernel": "38d619e4-aaba-4b5c-8ea1-6285fbce1f2c",
    "lastScheduledRunId": null,
    "lastSuccessfullyExecutedCode": "# Ingest raw electricity capability\nraw_electricity_capability_df = extract_json_data(\"electricity_capability_nested.json\")\nraw_electricity_sales_df = extract_tabular_data(\"electricity_sales.csv\")\n\ncleaned_electricity_sales_df = transform_electricity_sales_data(raw_electricity_sales_df)\n\nload(raw_electricity_capability_df, \"loaded__electricity_capability.parquet\")\nload(cleaned_electricity_sales_df, \"loaded__electricity_sales.csv\")\n"
   },
   "outputs": [],
   "source": [
    "# Ready for the moment of truth? It's time to test the functions that you wrote!\n",
    "raw_electricity_capability_df = extract_json_data(\"electricity_capability_nested.json\")\n",
    "raw_electricity_sales_df = extract_tabular_data(\"electricity_sales.csv\")\n",
    "\n",
    "cleaned_electricity_sales_df = transform_electricity_sales_data(raw_electricity_sales_df)\n",
    "\n",
    "load(raw_electricity_capability_df, \"output/loaded__electricity_capability.parquet\")\n",
    "load(cleaned_electricity_sales_df, \"output/loaded__electricity_sales.csv\")"
   ]
  }
 ],
 "metadata": {
  "colab": {
   "name": "Welcome to DataCamp Workspaces.ipynb",
   "provenance": []
  },
  "kernelspec": {
   "display_name": "recommender-env",
   "language": "python",
   "name": "python3"
  },
  "language_info": {
   "codemirror_mode": {
    "name": "ipython",
    "version": 3
   },
   "file_extension": ".py",
   "mimetype": "text/x-python",
   "name": "python",
   "nbconvert_exporter": "python",
   "pygments_lexer": "ipython3",
   "version": "3.10.18"
  }
 },
 "nbformat": 4,
 "nbformat_minor": 5
}
